{
 "cells": [
  {
   "cell_type": "code",
   "execution_count": 1,
   "metadata": {
    "slideshow": {
     "slide_type": "skip"
    }
   },
   "outputs": [],
   "source": [
    "import os\n",
    "\n",
    "# Ignore numpy warnings\n",
    "import warnings\n",
    "warnings.filterwarnings('ignore')\n",
    "\n",
    "%matplotlib inline\n",
    "#%matplotlib notebook\n",
    "\n",
    "# Use seaborn settings.\n",
    "import seaborn as sns\n",
    "sns.set(\n",
    "        #context=\"paper\",\n",
    "        context=\"talk\",\n",
    "        #context=\"poster\",\n",
    "        style='darkgrid',\n",
    "        #style=\"dark\",\n",
    "        #palette='deep',\n",
    "        font='sans-serif', \n",
    "        #font_scale=1.0, \n",
    "        #color_codes=False, \n",
    "        rc={'figure.figsize': (9, 5.0)}, # width and height in inches.\n",
    "        #rc={'figure.figsize': (10, 6.0)}, # width and height in inches.\n",
    "        #rc={'figure.figsize': (12, 8.0)}, # width and height in inches.\n",
    ")\n",
    "\n",
    "import IPython\n",
    "\n",
    "def _embed(src, width=\"800\", height=\"400\"):\n",
    "    return IPython.display.IFrame(src=src, width=str(width), height=str(height))\n",
    "\n",
    "from IPython.core.magic import (register_line_magic, register_cell_magic,\n",
    "                                register_line_cell_magic)\n",
    "\n",
    "from IPython.display import HTML\n",
    "\n",
    "#from IPython.display import HTML\n",
    "#with open(\"custom.css\", \"rt\") as fh:\n",
    "#    HTML(fh.read())\n",
    "\n",
    "@register_line_magic\n",
    "def embed(line):\n",
    "    \"my line magic\"\n",
    "    #return line\n",
    "    return _embed(line)\n",
    "\n",
    "# We delete these to avoid name conflicts for automagic to work\n",
    "del embed\n",
    "#del lcmagic\n",
    "\n",
    "# Theme\n",
    "# import jtplot module in notebook\n",
    "#from jupyterthemes import jtplot\n",
    "\n",
    "# choose which theme to inherit plotting style from\n",
    "# onedork | grade3 | oceans16 | chesterish | monokai | solarizedl | solarizedd\n",
    "#jtplot.style(theme='monokai')\n",
    "\n",
    "# set \"context\" (paper, notebook, talk, poster)\n",
    "# scale font-size of ticklabels, legend, etc.\n",
    "# remove spines from x and y axes and make grid dashed\n",
    "#jtplot.style(context='talk', fscale=1.4, spines=False, gridlines='--')\n",
    "\n",
    "# turn on X- and Y-axis tick marks (default=False)\n",
    "# turn off the axis grid lines (default=True)\n",
    "# and set the default figure size\n",
    "#jtplot.style(ticks=True, grid=False, figsize=(6, 4.5))\n",
    "\n",
    "# reset default matplotlib rcParams\n",
    "#jtplot.reset()\n",
    "\n",
    "from abipy import abilab\n",
    "import abipy.data as abidata\n",
    "abiopen = abilab.abiopen\n",
    "\n",
    "#abilab.abipanel()\n",
    "\n",
    "si_pseudo = os.path.join(abidata.pseudo_dir, \"14si.pspnc\")"
   ]
  },
  {
   "cell_type": "code",
   "execution_count": 2,
   "metadata": {
    "slideshow": {
     "slide_type": "skip"
    }
   },
   "outputs": [
    {
     "data": {
      "text/html": [
       "<style>\n",
       "\n",
       ".abinit_input {\n",
       "    font-size: 70%; !Important /* px, cm, in, etc.*/\n",
       "}\n",
       "\n",
       "</style>\n"
      ],
      "text/plain": [
       "<IPython.core.display.HTML object>"
      ]
     },
     "metadata": {},
     "output_type": "display_data"
    }
   ],
   "source": [
    "%%html\n",
    "<style>\n",
    "\n",
    ".abinit_input {\n",
    "    font-size: 70%; !Important /* px, cm, in, etc.*/\n",
    "}\n",
    "\n",
    "</style>"
   ]
  },
  {
   "cell_type": "markdown",
   "metadata": {
    "slideshow": {
     "slide_type": "slide"
    }
   },
   "source": [
    "# AbiPy v0.9.1 @IMEC\n",
    "\n",
    "### M. Giantomassi and the AbiPy group\n",
    "\n",
    "10th international ABINIT developer workshop<br> \n",
    "<small>May 31 - June 4, 2021 - Smart Working, Lockdown@BE</small>\n",
    "\n",
    "<!-- link rel=\"stylesheet\" href=\"reveal.js/css/theme/sky.css\" id=\"theme\" -->\n",
    "<img src=\"./assets/intro_logos.png\" width=\"85%\" heigh=\"15%\" align=\"center\">\n",
    "<hr> \n",
    "\n",
    "* These slides have been generated using [jupyter](https://jupyter.org), [nbconvert](https://github.com/jupyter/nbconvert) and [revealjs](https://revealjs.com/)\n",
    "* The notebook can be downloaded from this [github repo](https://github.com/gmatteo/abipy_abidev2021)\n",
    "* To install and configure the software, follow these [installation instructions](https://github.com/abinit/abipy#getting-abipy)\n",
    "\n",
    "Use the **Space key** to navigate through all slides and **SHIFT + Space key** to go back one slide."
   ]
  },
  {
   "cell_type": "markdown",
   "metadata": {
    "slideshow": {
     "slide_type": "slide"
    }
   },
   "source": [
    "<img src=\"./assets/abipy_logo.jpg\" width=\"50%\" align=\"center\">\n",
    "\n",
    "## What is AbiPy?\n",
    "\n",
    "#### Python package for:\n",
    "\n",
    "   * **Generating** ABINIT input files automatically\n",
    "   * **Post-processing** results extracted from *netcdf* or *text* files\n",
    "   * **Interfacing** ABINIT with external tools such as *vesta*, *wannier90*, *lobster*, *etc*.\n",
    "   * **Running** ABINIT-specific workflows on laptops as well as on HPC clusters\n",
    "   \n",
    "#### Dependencies:\n",
    "\n",
    "   * Hard deps:\n",
    "     [pymatgen](https://github.com/materialsproject), \n",
    "     [netcdf4](https://unidata.github.io/netcdf4-python/), \n",
    "     [matplotlib](https://matplotlib.org/), [plotly](https://plotly.com/), \n",
    "     [numpy](http://www.numpy.org/), [scipy](https://www.scipy.org/), \n",
    "     [pandas](http://pandas.pydata.org/),\n",
    "     [ipython](http://ipython.org/) …\n",
    "   * Soft deps: \n",
    "     [ASE](https://wiki.fysik.dtu.dk/ase/),\n",
    "     [phonopy](https://phonopy.github.io/phonopy/), \n",
    "     [jupyter](https://jupyter.org/) …\n",
    "   \n",
    "NB: AbiPy can be interfaced with other packages (e.g ASE, phonopy) via **converters**."
   ]
  },
  {
   "cell_type": "markdown",
   "metadata": {
    "slideshow": {
     "slide_type": "subslide"
    }
   },
   "source": [
    "## How to install AbiPy\n",
    "\n",
    "Using [conda](https://conda.io/en/latest/) and the conda forge channel (*recommended*):\n",
    "\n",
    "        conda install abipy --channel conda-forge\n",
    "\n",
    "Since conda is not limited to python packages, one can **install ABINIT** in the same env with:\n",
    "\n",
    "        conda install abinit -c conda-forge\n",
    "       \n",
    "NB: conda packages for AbiPy and ABINIT are now provided by [conda-forge](https://conda-forge.org/)  therefore:\n",
    "\n",
    "   - new pkgs are **automatically built** when new releases are pushed to github \n",
    "   - the *abiconda* channel is **deprecated**. Please use conda-forge.        \n",
    "                \n",
    "<hr>\n",
    "\n",
    "Using [pip](https://pypi.org/project/pip/) and python wheels:\n",
    "\n",
    "        pip install abipy --user\n",
    "\n",
    "<hr>\n",
    "For further info see http://abinit.github.io/abipy/installation.html"
   ]
  },
  {
   "cell_type": "markdown",
   "metadata": {
    "slideshow": {
     "slide_type": "slide"
    }
   },
   "source": [
    "## What's new at the level of the documentation?\n",
    "\n",
    "* New [website](https://abinit.github.io/abipy/index.html) based on [sphinx-rtd-theme](https://github.com/readthedocs/sphinx_rtd_theme)\n",
    "* More examples:\n",
    "    * Gallery of plots based on *matplotlib* and *plotly* (59 scripts)\n",
    "    * New examples for Flows (38 scripts)\n",
    "    * Each script can now be executed on [mybinder.org](https://mybinder.org/) inside \n",
    "      an automatically generated Docker container. Just click the *LaunchBinder* badge.\n",
    "* New [notebook tutorial](https://nbviewer.jupyter.org/github/abinit/abitutorials/blob/master/abitutorials/elastic/lesson_elastic.ipynb) for elastic properties with AbiPy\n",
    "* Post-processing tools for EPH results are also documented in the new [eph4zpr tutorial](https://docs.abinit.org/tutorial/eph4zpr/)  "
   ]
  },
  {
   "cell_type": "code",
   "execution_count": 3,
   "metadata": {
    "slideshow": {
     "slide_type": "notes"
    }
   },
   "outputs": [],
   "source": [
    "#%embed https://abinit.github.io/abipy/gallery/index.html\n",
    "#%embed https://abinit.github.io/abipy/flow_gallery/index.html"
   ]
  },
  {
   "cell_type": "markdown",
   "metadata": {
    "slideshow": {
     "slide_type": "skip"
    }
   },
   "source": [
    "##  Jupyter notebooks with [examples and lessons](https://nbviewer.jupyter.org/github/abinit/abitutorials/blob/master/abitutorials/index.ipynb) inspired by the official tutorials\n",
    "\n",
    "<!-- img src=\"./assets/abipy_notebooks.png\" width=\"100%\" align=\"center\" -->"
   ]
  },
  {
   "cell_type": "code",
   "execution_count": 4,
   "metadata": {
    "slideshow": {
     "slide_type": "skip"
    }
   },
   "outputs": [],
   "source": [
    "#%embed https://nbviewer.jupyter.org/github/abinit/abitutorials/blob/master/abitutorials/index.ipynb"
   ]
  },
  {
   "cell_type": "markdown",
   "metadata": {
    "slideshow": {
     "slide_type": "slide"
    }
   },
   "source": [
    "## What's new at the level of workflow infrastructure?\n",
    "\n",
    "In addition to workflows/tools for GS, DFPT, GW, IPA optics, BSE, we now have:\n",
    "\n",
    "* **Python converters**: DDB $\\;\\rightleftarrows \\;$ phonopy / tdep\n",
    "\n",
    "* **New *Flows*** and improved post-processing tools for:\n",
    "\n",
    "   - elastic and piezoelectric tensors with DFPT (clamped/relaxed atoms)\n",
    "   - non-linear optical properties (SHG) with DFPT \n",
    "   - Phonopy with AbiPy flows\n",
    "   - Gruneisen parameters with DFPT + finite differences\n",
    "   - effective masses with DFPT or finite differences \n",
    "   - e-ph self-energy, e-ph matrix elements and scattering potentials\n",
    "   - phonon-limited transport properties"
   ]
  },
  {
   "cell_type": "markdown",
   "metadata": {
    "slideshow": {
     "slide_type": "slide"
    }
   },
   "source": [
    "## Quick intro to AbiPy Flows and selected examples\n",
    "\n",
    "<img src=\"./assets/workflows.png\" width=\"50%\" align=\"center\">"
   ]
  },
  {
   "cell_type": "markdown",
   "metadata": {
    "slideshow": {
     "slide_type": "subslide"
    }
   },
   "source": [
    "## ⚠️ There are two different workflow infrastructures:\n",
    "   \n",
    "#### Internal AbiPy implementation (*abipy.flowtk modules*): \n",
    "\n",
    "* ✅  Lightweigth, **no database required**\n",
    "* ✅  Designed for rapid prototyping and/or for supporting advanced ABINIT capabilities \n",
    "* ❌  No explicit support for high-throughput (HT) applications.\n",
    "    \n",
    "\n",
    "#### [AbiFlows](https://github.com/abinit/abiflows) package  (requires Fireworks and MongoDB database)\n",
    "\n",
    "- ✅ **HT-oriented**: use *MongoDB* to store workflow status and results for further analysis\n",
    "- ✅ **High-level API** designed for HT applications (e.g. [phonon calculations for the materials project](https://www.nature.com/articles/sdata201865))\n",
    "- ❌ Not all the *flowtk* workflows are immediately available in *AbiFlows*.\n",
    "\n",
    "NB: There's an ongoing effort to reimplement AbiFlows in terms of the [atomate framework](https://github.com/hackingmaterials/atomate).\n",
    "In this talk, we will mainly discuss the **new features available in abipy.flowtk**."
   ]
  },
  {
   "cell_type": "markdown",
   "metadata": {
    "slideshow": {
     "slide_type": "skip"
    }
   },
   "source": [
    "## [ElasticWork](https://abinit.github.io/abipy/flow_gallery/run_elastic.html#sphx-glr-flow-gallery-run-elastic-py)\n",
    "\n",
    "#### This flow computes:\n",
    "\n",
    "- the rigid-atom elastic tensor\n",
    "- the rigid-atom piezoelectric tensor (insulators only)\n",
    "- the internal strain tensor\n",
    "- the atomic relaxation corrections to the elastic and piezoelectric tensor\n",
    "\n",
    "For the formalism, see: XXX\n",
    "\n",
    "#### Python example\n",
    "\n",
    "```python\n",
    "scf_input = make_scf_input() # Build input for GS calculation\n",
    "\n",
    "elast_work = flowtk.ElasticWork.from_scf_input(scf_input, \n",
    "                                               with_relaxed_ion=True, \n",
    "                                               with_piezo=True)\n",
    "```"
   ]
  },
  {
   "cell_type": "markdown",
   "metadata": {
    "slideshow": {
     "slide_type": "skip"
    }
   },
   "source": [
    "## Dependency Graph:\n",
    "\n",
    "<img src=\"./assets/elastic_work.png\" width=\"45%\" align=\"center\">\n",
    "<hr>    \n",
    " \n",
    "- Indipendent perturbations are computed in **parallel** with optimized MPI-params. \n",
    "- Restart capabilities (e.g. *timeout* limit) and error handlers\n",
    "- Intermediate DDB files are automatically merged. \n",
    "- Final DDB file automatically produced in the *outdata* directory of the *Work*."
   ]
  },
  {
   "cell_type": "markdown",
   "metadata": {
    "slideshow": {
     "slide_type": "skip"
    }
   },
   "source": [
    "## To compute the elastic tensors from the final DDB file, use:"
   ]
  },
  {
   "cell_type": "code",
   "execution_count": 5,
   "metadata": {
    "slideshow": {
     "slide_type": "skip"
    }
   },
   "outputs": [
    {
     "data": {
      "text/html": [
       "<div>\n",
       "<style scoped>\n",
       "    .dataframe tbody tr th:only-of-type {\n",
       "        vertical-align: middle;\n",
       "    }\n",
       "\n",
       "    .dataframe tbody tr th {\n",
       "        vertical-align: top;\n",
       "    }\n",
       "\n",
       "    .dataframe thead th {\n",
       "        text-align: right;\n",
       "    }\n",
       "</style>\n",
       "<table border=\"1\" class=\"dataframe\">\n",
       "  <thead>\n",
       "    <tr style=\"text-align: right;\">\n",
       "      <th></th>\n",
       "      <th>property</th>\n",
       "      <th>0</th>\n",
       "      <th>1</th>\n",
       "    </tr>\n",
       "  </thead>\n",
       "  <tbody>\n",
       "    <tr>\n",
       "      <th>0</th>\n",
       "      <td>trans_v</td>\n",
       "      <td>3.194459e+03</td>\n",
       "      <td>3.838052e+03</td>\n",
       "    </tr>\n",
       "    <tr>\n",
       "      <th>1</th>\n",
       "      <td>long_v</td>\n",
       "      <td>5.796035e+03</td>\n",
       "      <td>6.295200e+03</td>\n",
       "    </tr>\n",
       "    <tr>\n",
       "      <th>2</th>\n",
       "      <td>snyder_ac</td>\n",
       "      <td>5.767044e+01</td>\n",
       "      <td>8.693459e+01</td>\n",
       "    </tr>\n",
       "    <tr>\n",
       "      <th>3</th>\n",
       "      <td>snyder_opt</td>\n",
       "      <td>3.158141e-01</td>\n",
       "      <td>3.621134e-01</td>\n",
       "    </tr>\n",
       "    <tr>\n",
       "      <th>4</th>\n",
       "      <td>snyder_total</td>\n",
       "      <td>5.798626e+01</td>\n",
       "      <td>8.729670e+01</td>\n",
       "    </tr>\n",
       "    <tr>\n",
       "      <th>5</th>\n",
       "      <td>clarke_thermalcond</td>\n",
       "      <td>7.734051e-01</td>\n",
       "      <td>9.006348e-01</td>\n",
       "    </tr>\n",
       "    <tr>\n",
       "      <th>6</th>\n",
       "      <td>cahill_thermalcond</td>\n",
       "      <td>8.539415e-01</td>\n",
       "      <td>9.791319e-01</td>\n",
       "    </tr>\n",
       "    <tr>\n",
       "      <th>7</th>\n",
       "      <td>debye_temperature</td>\n",
       "      <td>3.760623e+02</td>\n",
       "      <td>4.477874e+02</td>\n",
       "    </tr>\n",
       "    <tr>\n",
       "      <th>8</th>\n",
       "      <td>k_voigt</td>\n",
       "      <td>7.553865e+01</td>\n",
       "      <td>7.553930e+01</td>\n",
       "    </tr>\n",
       "    <tr>\n",
       "      <th>9</th>\n",
       "      <td>k_reuss</td>\n",
       "      <td>7.553074e+01</td>\n",
       "      <td>7.553579e+01</td>\n",
       "    </tr>\n",
       "    <tr>\n",
       "      <th>10</th>\n",
       "      <td>k_vrh</td>\n",
       "      <td>7.553469e+01</td>\n",
       "      <td>7.553754e+01</td>\n",
       "    </tr>\n",
       "    <tr>\n",
       "      <th>11</th>\n",
       "      <td>g_voigt</td>\n",
       "      <td>3.951341e+01</td>\n",
       "      <td>5.767416e+01</td>\n",
       "    </tr>\n",
       "    <tr>\n",
       "      <th>12</th>\n",
       "      <td>g_reuss</td>\n",
       "      <td>3.761300e+01</td>\n",
       "      <td>5.366047e+01</td>\n",
       "    </tr>\n",
       "    <tr>\n",
       "      <th>13</th>\n",
       "      <td>g_vrh</td>\n",
       "      <td>3.856321e+01</td>\n",
       "      <td>5.566731e+01</td>\n",
       "    </tr>\n",
       "    <tr>\n",
       "      <th>14</th>\n",
       "      <td>universal_anisotropy</td>\n",
       "      <td>2.527308e-01</td>\n",
       "      <td>3.740360e-01</td>\n",
       "    </tr>\n",
       "    <tr>\n",
       "      <th>15</th>\n",
       "      <td>homogeneous_poisson</td>\n",
       "      <td>2.818554e-01</td>\n",
       "      <td>2.041909e-01</td>\n",
       "    </tr>\n",
       "    <tr>\n",
       "      <th>16</th>\n",
       "      <td>y_mod</td>\n",
       "      <td>9.886491e+10</td>\n",
       "      <td>1.340681e+11</td>\n",
       "    </tr>\n",
       "  </tbody>\n",
       "</table>\n",
       "</div>"
      ],
      "text/plain": [
       "                property             0             1\n",
       "0                trans_v  3.194459e+03  3.838052e+03\n",
       "1                 long_v  5.796035e+03  6.295200e+03\n",
       "2              snyder_ac  5.767044e+01  8.693459e+01\n",
       "3             snyder_opt  3.158141e-01  3.621134e-01\n",
       "4           snyder_total  5.798626e+01  8.729670e+01\n",
       "5     clarke_thermalcond  7.734051e-01  9.006348e-01\n",
       "6     cahill_thermalcond  8.539415e-01  9.791319e-01\n",
       "7      debye_temperature  3.760623e+02  4.477874e+02\n",
       "8                k_voigt  7.553865e+01  7.553930e+01\n",
       "9                k_reuss  7.553074e+01  7.553579e+01\n",
       "10                 k_vrh  7.553469e+01  7.553754e+01\n",
       "11               g_voigt  3.951341e+01  5.767416e+01\n",
       "12               g_reuss  3.761300e+01  5.366047e+01\n",
       "13                 g_vrh  3.856321e+01  5.566731e+01\n",
       "14  universal_anisotropy  2.527308e-01  3.740360e-01\n",
       "15   homogeneous_poisson  2.818554e-01  2.041909e-01\n",
       "16                 y_mod  9.886491e+10  1.340681e+11"
      ]
     },
     "execution_count": 5,
     "metadata": {},
     "output_type": "execute_result"
    }
   ],
   "source": [
    "elastic_ddb = abilab.abiopen(\"elastic_DDB\")\n",
    "edata = elastic_ddb.anaget_elastic()\n",
    "\n",
    "edata.get_elastic_properties_dataframe(properties_as_index=True)"
   ]
  },
  {
   "cell_type": "markdown",
   "metadata": {
    "slideshow": {
     "slide_type": "skip"
    }
   },
   "source": [
    "##### For additional info, please consult this [notebook tutorial](https://nbviewer.jupyter.org/github/abinit/abitutorials/blob/master/abitutorials/elastic/lesson_elastic.ipynb)"
   ]
  },
  {
   "cell_type": "code",
   "execution_count": 6,
   "metadata": {
    "slideshow": {
     "slide_type": "skip"
    }
   },
   "outputs": [],
   "source": [
    "#edata.get_elastic_voigt_dataframe(tol=1e-5)"
   ]
  },
  {
   "cell_type": "markdown",
   "metadata": {
    "slideshow": {
     "slide_type": "skip"
    }
   },
   "source": [
    "## Gruneisen parameters with finite differences\n",
    "\n",
    "This flow computes:\n",
    "\n",
    "\\begin{equation*}\n",
    "\\newcommand{\\PDER}[2]{\\dfrac{\\partial #1}{\\partial #2}}\n",
    "\\gamma_{\\mathbf{q}\\nu} = -\\PDER{\\ln \\wqnu}{\\ln V} = -\\dfrac{V}{\\wqnu}\\,\\PDER{\\wqnu}{V}\n",
    "\\end{equation*}\n",
    "\n",
    "where $D(\\mathbf{q})\\,{\\epsilon_{\\mathbf{q}\\nu}} = \\omega^2_s(\\mathbf{q})\\,\\epsilon_{\\mathbf{q}\\nu}$ with $D$ the dynamical matrix. \n",
    "\n",
    "The derivative wrt $V$ can be rewritten as:  \n",
    "\n",
    "\\begin{equation*}\n",
    "\\PDER{\\omega^2(\\mathbf{q}\\nu)}{V} = 2\\wqnu\\,\\PDER{\\wqnu}{V} \\langle \\eqnu | \\PDER{D(\\qq)}{V} | \\eqnu \\rangle\n",
    "\\end{equation*}\n",
    "\n",
    "where the r.h.s is computed by *anaddb* using finite differences of DFPT results.\n",
    "\n",
    "#### Python example:\n",
    "\n",
    "```python\n",
    "scf_input = make_scf_input() # Build input for GS calculation\n",
    "\n",
    "from abipy.flowtk.gruneisen import GruneisenWork\n",
    "voldelta = gs_inp.structure.volume * 0.02\n",
    "work = GruneisenWork.from_gs_input(gs_inp, voldelta, ngqpt=[2, 2, 2], \n",
    "                                   with_becs=False)\n",
    "```"
   ]
  },
  {
   "cell_type": "markdown",
   "metadata": {
    "slideshow": {
     "slide_type": "skip"
    }
   },
   "source": [
    "## Dependency Graph:\n",
    "\n",
    "<img src=\"./assets/gruneisen.png\" width=\"45%\" align=\"center\">\n",
    "<hr>\n",
    "\n",
    "- $N$ relaxations at fixed volume (violet task). $N$ in [3, 5, 7]\n",
    "- Each relaxation task starts a DFPT computation of the dynamical matrix $D(\\mathbf{q}, V)$\n",
    "- Finally, invoke *anaddb* with the $N$ DDB files to produce *out_GRUNS.nc*"
   ]
  },
  {
   "cell_type": "markdown",
   "metadata": {
    "slideshow": {
     "slide_type": "skip"
    }
   },
   "source": [
    "## To analyze the results stored in the *GRUNS.nc* file, use:"
   ]
  },
  {
   "cell_type": "code",
   "execution_count": 7,
   "metadata": {
    "scrolled": true,
    "slideshow": {
     "slide_type": "skip"
    }
   },
   "outputs": [
    {
     "ename": "FileNotFoundError",
     "evalue": "[Errno 2] No such file or directory: 'out_GRUNS.nc'",
     "output_type": "error",
     "traceback": [
      "\u001b[0;31m---------------------------------------------------------------------------\u001b[0m",
      "\u001b[0;31mFileNotFoundError\u001b[0m                         Traceback (most recent call last)",
      "\u001b[0;32m<ipython-input-7-df6beb10d08f>\u001b[0m in \u001b[0;36m<module>\u001b[0;34m\u001b[0m\n\u001b[0;32m----> 1\u001b[0;31m \u001b[0mgruns\u001b[0m \u001b[0;34m=\u001b[0m \u001b[0mabiopen\u001b[0m\u001b[0;34m(\u001b[0m\u001b[0;34m\"out_GRUNS.nc\"\u001b[0m\u001b[0;34m)\u001b[0m\u001b[0;34m\u001b[0m\u001b[0m\n\u001b[0m\u001b[1;32m      2\u001b[0m \u001b[0;31m#gruns.plot_gruns_scatter();\u001b[0m\u001b[0;34m\u001b[0m\u001b[0;34m\u001b[0m\u001b[0m\n",
      "\u001b[0;32m~/git_repos/abipy/abipy/abilab.py\u001b[0m in \u001b[0;36mabiopen\u001b[0;34m(filepath)\u001b[0m\n\u001b[1;32m    304\u001b[0m \u001b[0;34m\u001b[0m\u001b[0m\n\u001b[1;32m    305\u001b[0m     \u001b[0mcls\u001b[0m \u001b[0;34m=\u001b[0m \u001b[0mabifile_subclass_from_filename\u001b[0m\u001b[0;34m(\u001b[0m\u001b[0mfilepath\u001b[0m\u001b[0;34m)\u001b[0m\u001b[0;34m\u001b[0m\u001b[0m\n\u001b[0;32m--> 306\u001b[0;31m     \u001b[0;32mreturn\u001b[0m \u001b[0mcls\u001b[0m\u001b[0;34m.\u001b[0m\u001b[0mfrom_file\u001b[0m\u001b[0;34m(\u001b[0m\u001b[0mfilepath\u001b[0m\u001b[0;34m)\u001b[0m\u001b[0;34m\u001b[0m\u001b[0m\n\u001b[0m\u001b[1;32m    307\u001b[0m \u001b[0;34m\u001b[0m\u001b[0m\n\u001b[1;32m    308\u001b[0m \u001b[0;34m\u001b[0m\u001b[0m\n",
      "\u001b[0;32m~/git_repos/abipy/abipy/dfpt/gruneisen.py\u001b[0m in \u001b[0;36mfrom_file\u001b[0;34m(cls, filepath)\u001b[0m\n\u001b[1;32m     57\u001b[0m     \u001b[0;32mdef\u001b[0m \u001b[0mfrom_file\u001b[0m\u001b[0;34m(\u001b[0m\u001b[0mcls\u001b[0m\u001b[0;34m,\u001b[0m \u001b[0mfilepath\u001b[0m\u001b[0;34m:\u001b[0m \u001b[0mstr\u001b[0m\u001b[0;34m)\u001b[0m \u001b[0;34m->\u001b[0m \u001b[0mGrunsNcFile\u001b[0m\u001b[0;34m:\u001b[0m\u001b[0;34m\u001b[0m\u001b[0m\n\u001b[1;32m     58\u001b[0m         \u001b[0;34m\"\"\"Initialize the object from a netcdf_ file\"\"\"\u001b[0m\u001b[0;34m\u001b[0m\u001b[0m\n\u001b[0;32m---> 59\u001b[0;31m         \u001b[0;32mreturn\u001b[0m \u001b[0mcls\u001b[0m\u001b[0;34m(\u001b[0m\u001b[0mfilepath\u001b[0m\u001b[0;34m)\u001b[0m\u001b[0;34m\u001b[0m\u001b[0m\n\u001b[0m\u001b[1;32m     60\u001b[0m \u001b[0;34m\u001b[0m\u001b[0m\n\u001b[1;32m     61\u001b[0m     \u001b[0;32mdef\u001b[0m \u001b[0m__init__\u001b[0m\u001b[0;34m(\u001b[0m\u001b[0mself\u001b[0m\u001b[0;34m,\u001b[0m \u001b[0mfilepath\u001b[0m\u001b[0;34m:\u001b[0m \u001b[0mstr\u001b[0m\u001b[0;34m)\u001b[0m\u001b[0;34m:\u001b[0m\u001b[0;34m\u001b[0m\u001b[0m\n",
      "\u001b[0;32m~/git_repos/abipy/abipy/dfpt/gruneisen.py\u001b[0m in \u001b[0;36m__init__\u001b[0;34m(self, filepath)\u001b[0m\n\u001b[1;32m     60\u001b[0m \u001b[0;34m\u001b[0m\u001b[0m\n\u001b[1;32m     61\u001b[0m     \u001b[0;32mdef\u001b[0m \u001b[0m__init__\u001b[0m\u001b[0;34m(\u001b[0m\u001b[0mself\u001b[0m\u001b[0;34m,\u001b[0m \u001b[0mfilepath\u001b[0m\u001b[0;34m:\u001b[0m \u001b[0mstr\u001b[0m\u001b[0;34m)\u001b[0m\u001b[0;34m:\u001b[0m\u001b[0;34m\u001b[0m\u001b[0m\n\u001b[0;32m---> 62\u001b[0;31m         \u001b[0msuper\u001b[0m\u001b[0;34m(\u001b[0m\u001b[0;34m)\u001b[0m\u001b[0;34m.\u001b[0m\u001b[0m__init__\u001b[0m\u001b[0;34m(\u001b[0m\u001b[0mfilepath\u001b[0m\u001b[0;34m)\u001b[0m\u001b[0;34m\u001b[0m\u001b[0m\n\u001b[0m\u001b[1;32m     63\u001b[0m         \u001b[0mself\u001b[0m\u001b[0;34m.\u001b[0m\u001b[0mreader\u001b[0m \u001b[0;34m=\u001b[0m \u001b[0mGrunsReader\u001b[0m\u001b[0;34m(\u001b[0m\u001b[0mfilepath\u001b[0m\u001b[0;34m)\u001b[0m\u001b[0;34m\u001b[0m\u001b[0m\n\u001b[1;32m     64\u001b[0m \u001b[0;34m\u001b[0m\u001b[0m\n",
      "\u001b[0;32m~/git_repos/abipy/abipy/core/mixins.py\u001b[0m in \u001b[0;36m__init__\u001b[0;34m(self, filepath)\u001b[0m\n\u001b[1;32m     38\u001b[0m \u001b[0;34m\u001b[0m\u001b[0m\n\u001b[1;32m     39\u001b[0m         \u001b[0;31m# Save stat values\u001b[0m\u001b[0;34m\u001b[0m\u001b[0;34m\u001b[0m\u001b[0m\n\u001b[0;32m---> 40\u001b[0;31m         \u001b[0mstat\u001b[0m \u001b[0;34m=\u001b[0m \u001b[0mos\u001b[0m\u001b[0;34m.\u001b[0m\u001b[0mstat\u001b[0m\u001b[0;34m(\u001b[0m\u001b[0mfilepath\u001b[0m\u001b[0;34m)\u001b[0m\u001b[0;34m\u001b[0m\u001b[0m\n\u001b[0m\u001b[1;32m     41\u001b[0m         \u001b[0mself\u001b[0m\u001b[0;34m.\u001b[0m\u001b[0m_last_atime\u001b[0m \u001b[0;34m=\u001b[0m \u001b[0mstat\u001b[0m\u001b[0;34m.\u001b[0m\u001b[0mst_atime\u001b[0m\u001b[0;34m\u001b[0m\u001b[0m\n\u001b[1;32m     42\u001b[0m         \u001b[0mself\u001b[0m\u001b[0;34m.\u001b[0m\u001b[0m_last_mtime\u001b[0m \u001b[0;34m=\u001b[0m \u001b[0mstat\u001b[0m\u001b[0;34m.\u001b[0m\u001b[0mst_mtime\u001b[0m\u001b[0;34m\u001b[0m\u001b[0m\n",
      "\u001b[0;31mFileNotFoundError\u001b[0m: [Errno 2] No such file or directory: 'out_GRUNS.nc'"
     ]
    }
   ],
   "source": [
    "gruns = abiopen(\"out_GRUNS.nc\")\n",
    "#gruns.plot_gruns_scatter();"
   ]
  },
  {
   "cell_type": "code",
   "execution_count": null,
   "metadata": {
    "scrolled": false,
    "slideshow": {
     "slide_type": "skip"
    }
   },
   "outputs": [],
   "source": [
    "#for fig in gruns.yield_figs():\n",
    "#    fig"
   ]
  },
  {
   "cell_type": "markdown",
   "metadata": {
    "slideshow": {
     "slide_type": "subslide"
    }
   },
   "source": [
    "## [Effective masses with DFPT]( https://abinit.github.io/abipy/flow_gallery/run_effmass_dfpt.html#sphx-glr-flow-gallery-run-effmass-dfpt-py)\n",
    "\n",
    "#### This flow performs:\n",
    "\n",
    "- GS-SCF run followed by NSCF run with **k**-path to locate band edges automatically\n",
    "- Compute $\\epsilon^{\\alpha\\beta}_{n\\bf{k}}$ and the effective mass tensor at the band edges using\n",
    "  $|u_{n\\mathbf{k}}\\rangle$, and the **k**-derivatives $|u_{n\\mathbf{k}}^\\alpha\\rangle$\n",
    "  $H^\\alpha_{\\mathbf{k}}$, $H^{\\alpha\\beta}_{\\mathbf{k}}$\n",
    "\n",
    "- For the formalism, see [J. Laflamme Janssen, et. al. Phys. Rev. B 93, 205147](10.1103/PhysRevB.93.205147)\n",
    "- More that 1k systems already computed by J. C. Abreu.\n",
    "\n",
    "#### Python API:\n",
    "\n",
    "```python\n",
    "flow = flowtk.Flow(\"flow_effmass_dfpt\")\n",
    "\n",
    "# Build input for GS SCF calculation.\n",
    "scf_input = make_scf_input()\n",
    "\n",
    "# This object implements all the worflow logic\n",
    "from abipy.flowtk.effmass_works import EffMassAutoDFPTWork\n",
    "work = EffMassAutoDFPTWork.from_scf_input(scf_input) \n",
    "\n",
    "flow.register_work(work)\n",
    "```"
   ]
  },
  {
   "cell_type": "markdown",
   "metadata": {
    "slideshow": {
     "slide_type": "subslide"
    }
   },
   "source": [
    "## Dependency Graph\n",
    "\n",
    "<img src=\"./assets/eff_mass_dfpt.png\" width=\"50%\" align=\"center\">\n",
    "<hr>\n",
    "\n",
    "- To run the flow with the high-level interface, use: *run_effmass_dfpt.py --sheduler*    \n",
    "- *autoparal* algorithm: \n",
    "    - select \"optimal\" Ncpus for each task\n",
    "    - set MPI-related variables in the input\n",
    "    - submit tasks and start monitoring\n",
    "    - indipendent tasks are executed in parallel\n",
    "- Support for *bluegene*, *moab*, *pbspro*, *sge*, *shell*, *slurm*, *torque*\n",
    "- Restart capabilities (*e.g.* timeout limit) and error handlers"
   ]
  },
  {
   "cell_type": "markdown",
   "metadata": {
    "slideshow": {
     "slide_type": "subslide"
    }
   },
   "source": [
    "### To generate a GS-SCF input, one can use factory functions (HT-oriented)\n"
   ]
  },
  {
   "cell_type": "code",
   "execution_count": null,
   "metadata": {
    "slideshow": {
     "slide_type": "-"
    }
   },
   "outputs": [],
   "source": [
    "from abipy.abio.factories import gs_input\n",
    "\n",
    "gs_input(structure=\"si.cif\", pseudos=\"14si.pspnc\", ecut=8)"
   ]
  },
  {
   "cell_type": "markdown",
   "metadata": {
    "slideshow": {
     "slide_type": "subslide"
    }
   },
   "source": [
    "## or build it from scratch if full controll is wanted:"
   ]
  },
  {
   "cell_type": "code",
   "execution_count": null,
   "metadata": {
    "slideshow": {
     "slide_type": "-"
    }
   },
   "outputs": [],
   "source": [
    "other_inp = abilab.AbinitInput(structure=\"si.cif\", pseudos=\"14si.pspnc\")\n",
    "\n",
    "other_inp.set_vars(ecut=8, nsppol=2, toldfe=1e-8)\n",
    "other_inp.set_autokmesh(8)\n",
    "\n",
    "other_inp"
   ]
  },
  {
   "cell_type": "markdown",
   "metadata": {
    "slideshow": {
     "slide_type": "subslide"
    }
   },
   "source": [
    "## Workflows do not necessarily imply HT applications\n",
    "\n",
    "- Sometimes, we need to address rather **technical**/**fundamental** questions\n",
    "- For instance, one may ask whether the treatment of the dipole interaction is enough to \n",
    "  obtain an **accurate interpolation** of the e-ph scattering potentials\n",
    "- Answering this question required **hundreds of DFPT + WFQ + EPH calculations** \n",
    "  along a very dense **q**-path (300 points):\n",
    "\n",
    "<img src=\"./assets/GaAs_pot_dfpt.png\" width=\"50%\" align=\"center\">\n",
    "\n",
    "<hr>\n",
    "\n",
    "- See G. Brunin's talk and [PRL **125**, 136601 (2020)](https://journals.aps.org/prl/abstract/10.1103/PhysRevLett.125.136601),\n",
    "[PRB **102**, 094308 (2020)](https://journals.aps.org/prb/abstract/10.1103/PhysRevB.102.094308)"
   ]
  },
  {
   "cell_type": "markdown",
   "metadata": {
    "slideshow": {
     "slide_type": "subslide"
    }
   },
   "source": [
    "### Obviously, we used an AbiPy [script](http://abinit.github.io/abipy/flow_gallery/run_eph_pot.html#sphx-glr-flow-gallery-run-eph-pot-py) to automate most of the steps:\n",
    "\n",
    "<img src=\"./assets/v1q_interpolation.png\" width=\"80%\" align=\"center\">\n",
    "\n",
    "<hr>\n",
    "\n",
    "NB: This is a simplified version with just 2 **q**-points in the path. In our work, we used 278 points."
   ]
  },
  {
   "cell_type": "markdown",
   "metadata": {
    "slideshow": {
     "slide_type": "subslide"
    }
   },
   "source": [
    "## Other AbiPy applications are presented in the following talks:\n",
    "\n",
    "- *Electron-phonon beyond Fröhlich: dynamical quadrupoles in polar and covalent solids* by **G. Brunin** \n",
    "- *Phonon-limited conductivity in 2D and 3D metals* by **O. Nadeau**\n",
    "- *Absorption spectrum calculations using cumulant expansion in electron-phonon interactions* by **J. C. Abreu**\n",
    "- *Automating ΔSCF computations of point defects using AbiPy workflows* by **J. Bouquiaux**"
   ]
  },
  {
   "cell_type": "markdown",
   "metadata": {
    "slideshow": {
     "slide_type": "slide"
    }
   },
   "source": [
    "## What's new at the level of the post-processing tools?\n",
    "\n",
    "- New plotting tools based on [plotly](https://plotly.com/)\n",
    "- GUIs and dashboards based on [panel](https://panel.holoviz.org/) and [bokeh](https://docs.bokeh.org/en/latest/index.html)\n",
    "\n",
    "<hr>\n",
    "<img src=\"./assets/py_html.png\" width=\"90%\" align=\"center\">"
   ]
  },
  {
   "cell_type": "markdown",
   "metadata": {
    "slideshow": {
     "slide_type": "slide"
    }
   },
   "source": [
    "## Why plotly?\n",
    "\n",
    "<img src=\"./assets/matplotlib_logo.png\" width=\"20%\" align=\"center\"><br>\n",
    "\n",
    "- ✅  Publication quality figures. \n",
    "- ✅  Flexible python API able to produce rather advanced plots\n",
    "- ❌  Plots are difficult to customize without changing the python code \n",
    "- ❌  Plots lacks interactivity and integration with HTML/JS\n",
    "\n",
    "<br> \n",
    "\n",
    "<img src=\"./assets/plotly_logo.png\" width=\"15%\" align=\"center\"><br>\n",
    "\n",
    "- ✅  Interactive plots + chart editor GUI to customize the figure\n",
    "- ✅  Plays well with HTML (plotly is written in js with python bindings)\n",
    "- ❌  Open source project but not all the features are available in the free plan \n",
    "- ❌  Requires browser (this may represent an issue on some HPC centers)"
   ]
  },
  {
   "cell_type": "markdown",
   "metadata": {
    "slideshow": {
     "slide_type": "skip"
    }
   },
   "source": [
    "## Important note\n",
    "\n",
    "- AbiPy will **continue to support and develop** matplotlib-based tools \n",
    "- We plan to implement plotly-based tools for the **most important physical properties**\n",
    "  but we cannot support all the possible plots/options already implemented with matplotlib\n",
    "- Fortunately, there are packages such as holoviz or plotly-express that are rather easy to use \n",
    "  provided the data is stored in a pandas dataframe.\n",
    "- Many other plotting libs are available in the pydata ecosystem so you can always use AbiPy to extract the data \n",
    "  from nc files and the roll up your customized version, if needed.\n",
    "\n",
    "<img src=\"./assets/pydata_libs.png\" width=\"45%\" align=\"center\">"
   ]
  },
  {
   "cell_type": "markdown",
   "metadata": {
    "slideshow": {
     "slide_type": "subslide"
    }
   },
   "source": [
    "## AbiPy plots with matplotlib"
   ]
  },
  {
   "cell_type": "code",
   "execution_count": null,
   "metadata": {
    "slideshow": {
     "slide_type": "-"
    }
   },
   "outputs": [],
   "source": [
    "gsr = abiopen(\"si_nscf_GSR.nc\")\n",
    "gsr.ebands.plot(with_gaps=True);"
   ]
  },
  {
   "cell_type": "markdown",
   "metadata": {
    "slideshow": {
     "slide_type": "subslide"
    }
   },
   "source": [
    "## AbiPy plots with plotly \n",
    "<small>(contributed by Y. He)</small>"
   ]
  },
  {
   "cell_type": "code",
   "execution_count": null,
   "metadata": {
    "slideshow": {
     "slide_type": "-"
    }
   },
   "outputs": [],
   "source": [
    "gsr.ebands.plotly(with_gaps=True);  # obj.plot becomes obj.plotly"
   ]
  },
  {
   "cell_type": "markdown",
   "metadata": {
    "slideshow": {
     "slide_type": "subslide"
    }
   },
   "source": [
    "## To upload the plotly figure to the [chart studio server](https://chart-studio.plotly.com/~gmatteo/214), use:\n",
    "\n",
    "```python\n",
    "gsr.ebands.plotly(with_gaps=True, chart_studio=True);\n",
    "```\n",
    "\n",
    "<hr>\n",
    "\n",
    "<img src=\"./assets/chart_studio.png\" width=\"80%\" align=\"center\">\n",
    "\n",
    "#### Users can finally customize the AbiPy plot without changing the python code 🎉\n",
    "\n",
    "<!--\n",
    "<div class=\"alert alert-warning\">\n",
    "Requires chart-studio account and API token in $HOME/.pmgrc.yaml \n",
    "</div>\n",
    "-->"
   ]
  },
  {
   "cell_type": "markdown",
   "metadata": {
    "slideshow": {
     "slide_type": "subslide"
    }
   },
   "source": [
    "## Interactive 3d plots with plotly:"
   ]
  },
  {
   "cell_type": "code",
   "execution_count": null,
   "metadata": {
    "slideshow": {
     "slide_type": "-"
    }
   },
   "outputs": [],
   "source": [
    "gsr.ebands.kpoints.plotly(title=\"k-path in 3d with plotly\");"
   ]
  },
  {
   "cell_type": "markdown",
   "metadata": {
    "slideshow": {
     "slide_type": "subslide"
    }
   },
   "source": [
    "## and, ça va sans dire, phonons with plotly:"
   ]
  },
  {
   "cell_type": "code",
   "execution_count": null,
   "metadata": {},
   "outputs": [],
   "source": [
    "znse_ddb = abilab.abiopen(\"ZnSe_hex_qpt_DDB\")\n",
    "\n",
    "phbst_file, phdos_file = znse_ddb.anaget_phbst_and_phdos_files()\n",
    "phbands, phdos = phbst_file.phbands, phdos_file.phdos\n",
    "\n",
    "phbands.plotly_with_phdos(phdos, units=\"cm-1\", title=\"ZnSe Phonon bands + DOS in cm-1\");"
   ]
  },
  {
   "cell_type": "markdown",
   "metadata": {
    "slideshow": {
     "slide_type": "slide"
    }
   },
   "source": [
    "## Integrating AbiPy with web-based technologies via Panel\n",
    "\n",
    "- AbiPy GUIs inside jupyter notebooks\n",
    "- Dashboards and web apps\n",
    "- Integration with the AbiPy command line interface\n",
    "- Web apps for ABINIT users (🚧)\n",
    "\n",
    "<img src=\"./assets/panel_software.png\" width=\"75%\" align=\"center\">"
   ]
  },
  {
   "cell_type": "markdown",
   "metadata": {
    "slideshow": {
     "slide_type": "skip"
    }
   },
   "source": [
    "<img src=\"./assets/panel_logo.png\" width=\"15%\" align=\"center\">\n",
    "\n",
    "### What is Panel?\n",
    "\n",
    "   * Panel provides tools for composing widgets, plots, tables into **web apps** and **dashboards** \n",
    "   * It relies on the **client-server** model where:\n",
    "       - the client is the web browser running HTML/CSS/JS code.\n",
    "       - the server communicates with the client, executes python code and sends the results back to the client\n",
    "   * In a nutshell, panel keeps the browser and python in **synch** e.g.\n",
    "     the user clicks a button in the GUI and the signal is sent to python.\n",
    "     \n",
    "### Why panel?\n",
    "\n",
    "   * It works with visualization packages from Bokeh, Plotly, Matplotlib, HoloViews, \n",
    "     and many other python plotting libraries, \n",
    "   * It works equally well in Jupyter Notebooks\n",
    "\n",
    "<!--\n",
    "   One implementation  multiple applications\n",
    "   * Most of the work can be done within the python backend:\n",
    "       - scientific computations\n",
    "       - definition of the HTML GUI (layout, widgets and callbacks)\n",
    "       - results on the client (browser) and keep   \n",
    "<small>Other frameworks: plotly-dash, jupyter+voila, streamlit</small>\n",
    "\n",
    "* Fits well with the AbiPy implementation\n",
    "\n",
    "Panel provides tools for easily composing widgets, plots, tables, and other viewable objects and controls into custom analysis tools, apps, and dashboards. Panel works with visualizations from Bokeh, Matplotlib, HoloViews, and many other Python plotting libraries, making them instantly viewable either individually or when combined with interactive widgets that control them. Panel works equally well in Jupyter Notebooks, for creating quick data-exploration tools, or as standalone deployed apps and dashboards, and allows you to easily switch between those contexts as needed.\n",
    "-->"
   ]
  },
  {
   "cell_type": "markdown",
   "metadata": {
    "slideshow": {
     "slide_type": "notes"
    }
   },
   "source": [
    "## Pros and cons of the client-server model\n",
    "\n",
    "### Advantages:\n",
    "\n",
    "- The client does not need to install the scientific software stack (when running on different machines)\n",
    "- Can implement web apps that allows the user to upload data and analyze the results *e.g* DDB GUI.\n",
    "\n",
    "### Disavantages\n",
    "\n",
    "- Round trip delay if client != host and slow connection\n",
    "- Upoloadng a 1Gb file to the remote server just because you don't want to install software on the localhost \n",
    "  is a very **bad** idea. \n",
    "- OK for relatively small files (< 1Gb) but this approach is not designed to handle big data.\n",
    "- Not all the HPC centers provide specialized nodes to post-process the results inside a web browser/notebook. "
   ]
  },
  {
   "cell_type": "markdown",
   "metadata": {
    "slideshow": {
     "slide_type": "subslide"
    }
   },
   "source": [
    "## How to use AbiPy panels inside jupyter notebooks\n",
    "\n",
    "#### To build a panel GUI inside the notebook, call the `get_panel` method:"
   ]
  },
  {
   "cell_type": "code",
   "execution_count": null,
   "metadata": {
    "slideshow": {
     "slide_type": "-"
    }
   },
   "outputs": [],
   "source": [
    "ddb = abilab.abiopen(\"ZnSe_hex_qpt_DDB\")\n",
    "\n",
    "abilab.abipanel(); # Important\n",
    "ddb.get_panel()"
   ]
  },
  {
   "cell_type": "markdown",
   "metadata": {
    "slideshow": {
     "slide_type": "skip"
    }
   },
   "source": [
    "## Other AbiPy files/objects are supported as well:"
   ]
  },
  {
   "cell_type": "code",
   "execution_count": null,
   "metadata": {
    "slideshow": {
     "slide_type": "skip"
    }
   },
   "outputs": [],
   "source": [
    "ddb.structure.get_panel()"
   ]
  },
  {
   "cell_type": "markdown",
   "metadata": {
    "slideshow": {
     "slide_type": "subslide"
    }
   },
   "source": [
    "\n",
    "<div class=\"alert alert-warning\">\n",
    "Don't be surprised if you start to click buttons and nothing happens in the GUI!\n",
    "    \n",
    "One needs a python backend to execute the callbacks triggered by the widgets.\n",
    "</div>"
   ]
  },
  {
   "cell_type": "markdown",
   "metadata": {
    "slideshow": {
     "slide_type": "fragment"
    }
   },
   "source": [
    "<img alt=\"\" class=\"mn ud fd em ei ix w c\" width=\"100%\" height=\"226\" align=\"center\" role=\"presentation\" src=\"https://miro.medium.com/max/1000/0*XCS4g9J1TFAXHu04.gif\" srcset=\"https://miro.medium.com/max/552/0*XCS4g9J1TFAXHu04.gif 276w, https://miro.medium.com/max/1000/0*XCS4g9J1TFAXHu04.gif 500w\" sizes=\"500px\">\n",
    "\n",
    "<hr>\n",
    "\n",
    "#### To open a dashboard for the DDB file from the shell, use:\n",
    "\n",
    "```sh\n",
    "abiopen.py out_DDB --panel  # or -pn\n",
    "```"
   ]
  },
  {
   "cell_type": "markdown",
   "metadata": {
    "slideshow": {
     "slide_type": "skip"
    }
   },
   "source": [
    "## Creating dashboards from the command line\n",
    "\n",
    "- Creating panels inside a notebook is great if you needs GUIs plus the possibility of executing python code.  \n",
    "- There are however cases in which we only need a dashboard with widgets to interact with the data."
   ]
  },
  {
   "cell_type": "markdown",
   "metadata": {
    "slideshow": {
     "slide_type": "skip"
    }
   },
   "source": [
    "#### To open a dashboard for the DDB file from the shell, use the `--panel` option:\n",
    "\n",
    "```sh\n",
    "abiopen.py out_DDB --panel  # or -pn if you prefer the short option.\n",
    "```\n",
    "<hr>\n",
    "\n",
    "#### To open a dashboard for the DDB file from the shell, use the `--panel` option:\n",
    "\n",
    "<img src=\"./assets/abiopen_ddb_panel.png\" width=\"70%\" align=\"center\">"
   ]
  },
  {
   "cell_type": "markdown",
   "metadata": {
    "slideshow": {
     "slide_type": "subslide"
    }
   },
   "source": [
    "## Integration with the AbiPy scripts\n",
    "\n",
    "####  \"Old\" approach to produce matplotlib figures from FILE.\n",
    "\n",
    "```shell\n",
    "    abiopen.py FILE --expose \n",
    "```    \n",
    "\n",
    "#### To generate **plotly** figures and show them in the browser, use:\n",
    "\n",
    "```shell\n",
    "    abiopen.py FILE --plotly # -ply\n",
    "``` \n",
    "#### For **matplotlib** figures in the browser, use:\n",
    "\n",
    "```shell\n",
    "    abiopen.py FILE --expose-web # -ew\n",
    "``` \n",
    "#### To generate a **jupter-lab** notebook for FILE, use:\n",
    "\n",
    "```shell\n",
    "    abiopen.py FILE --notebook # or --notebook-classic \n",
    "```    \n",
    "\n",
    "#### To automatically compute phonons from DDB and show results in the brower, use:\n",
    "\n",
    "```sh\n",
    "    abiview.py ddb out_qpt_DDB --panel  # -pn  \n",
    "```"
   ]
  },
  {
   "cell_type": "markdown",
   "metadata": {
    "slideshow": {
     "slide_type": "skip"
    }
   },
   "source": [
    "## To visualize all the results inside the browser, use"
   ]
  },
  {
   "cell_type": "markdown",
   "metadata": {
    "slideshow": {
     "slide_type": "skip"
    }
   },
   "source": [
    "```sh\n",
    "abiopen.py out_GRUNS.nc --expose-web # -ew for the short version\n",
    "```\n",
    "\n",
    "<hr>\n",
    "\n",
    "<img src=\"./assets/gruns_expose_web.png\" width=\"80%\" align=\"center\">\n",
    "\n",
    "####  🆕 This is new feature of *abiopen.py* made possible by panel. See next slides."
   ]
  },
  {
   "cell_type": "markdown",
   "metadata": {
    "slideshow": {
     "slide_type": "subslide"
    }
   },
   "source": [
    "## Documentation for these new features available at:"
   ]
  },
  {
   "cell_type": "code",
   "execution_count": null,
   "metadata": {
    "slideshow": {
     "slide_type": "-"
    }
   },
   "outputs": [],
   "source": [
    "%embed https://abinit.github.io/abipy/graphical_interface.html"
   ]
  },
  {
   "cell_type": "markdown",
   "metadata": {
    "slideshow": {
     "slide_type": "slide"
    }
   },
   "source": [
    "<img src=\"./assets/thank_you.jpeg\" width=\"70%\" align=\"center\">"
   ]
  },
  {
   "cell_type": "markdown",
   "metadata": {
    "slideshow": {
     "slide_type": "slide"
    }
   },
   "source": [
    "## How to run AbiPy Flows\n",
    "\n",
    "<img src=\"./assets/running_code.jpg\" width=\"75%\" align=\"center\">"
   ]
  },
  {
   "cell_type": "markdown",
   "metadata": {
    "slideshow": {
     "slide_type": "subslide"
    }
   },
   "source": [
    "## In order to run a *Flow*, we need two configurations files:\n",
    "\n",
    "1. [*scheduler.yml*](http://abinit.github.io/abipy/workflows/taskmanager.html#how-to-configure-the-scheduler) providing:\n",
    "\n",
    "    - scheduler parameters such as *days*, *hours*, *minutes*, *max_njobs_inqueue*, *max_ncores_used*, …\n",
    "    \n",
    "    \n",
    "2. [*manager.yml*](http://abinit.github.io/abipy/workflows/taskmanager.html) providing:\n",
    "\n",
    "    - list of shell commands to be executed before running ABINIT\n",
    "    - list of modules to load\n",
    "    - options for the queue manager (*bluegene*, *moab*, *pbspro*, *sge*, *shell*, *slurm*, *torque*)  \n",
    "\n",
    "See [this page](http://abinit.github.io/abipy/workflows/manager_examples.html) for examples \n",
    "or use the [abidoc.py](http://abinit.github.io/abipy/scripts/abidoc.html) script and the syntax:\n",
    "\n",
    "- *abidoc.py scheduler*\n",
    "- *abidoc.py manager*\n",
    "- *abidoc.py manager slurm*"
   ]
  },
  {
   "cell_type": "markdown",
   "metadata": {
    "slideshow": {
     "slide_type": "subslide"
    }
   },
   "source": [
    "### How to run calculations?\n",
    "\n",
    "The simplest way to start the scheduler from the shell is via the syntax:\n",
    "\n",
    "```sh\n",
    "    run_elastic.py --scheduler # -s for the short option \n",
    "```\n",
    "\n",
    "For non-trivial *Flows*, we suggest to put the scheduler in background and use `nohup`\n",
    "so that we can disconnect from the shell session without killing the scheduler.\n",
    "\n",
    "```sh\n",
    "    nohup run_elastic.py --s > log 2> err &\n",
    "``` \n",
    "\n",
    "Obviously, it is possible to submit a Slurm script that executes the script on the compute note with 1 core.\n",
    "\n",
    "To interact with the Flow, one can also use the [abirun.py](https://abinit.github.io/abipy/scripts/abirun.html) script, *e.g*:\n",
    "\n",
    "```sh\n",
    "abirun.py FLOWDIR status\n",
    "```"
   ]
  },
  {
   "cell_type": "markdown",
   "metadata": {
    "slideshow": {
     "slide_type": "slide"
    }
   },
   "source": [
    "## DDB converters \n",
    "<small>(contributed by G. Petretto)</small>\n",
    "\n",
    "* Based on previous work by H. Xu, E. Bousquet and A. Romero \n",
    "* Can be used to:\n",
    "\n",
    "   * connect the ABINT DPT part with other packages requiring phonopy files (e.g. anharmonic calculations with hiphive) \n",
    "   * interface AbiPy with phonopy tools e.g. irreps\n",
    "\n",
    "* Algorithm:\n",
    "\n",
    "    * Runs *anaddb* to get the interatomic force constants IFC($\\bf{R}$), BECs and $\\epsilon^\\infty$\n",
    "    * Save results in *nc* format (*anaddb.nc*)\n",
    "    * Convert IFC($\\bf{R}$) and tensors from ABINIT to phonopy conventions \n",
    "    * Optionally, save phonopy files in `output_dir_path`.\n",
    "    \n",
    "In python, everything boils down to:\n",
    "\n",
    "```python\n",
    "ddb = abilab.abiopen(\"mp-149_DDB\")\n",
    "phonopy_obj = ddb.anaget_phonopy_ifc(output_dir_path=\"output_dir\") \n",
    "```"
   ]
  },
  {
   "cell_type": "markdown",
   "metadata": {
    "slideshow": {
     "slide_type": "subslide"
    }
   },
   "source": [
    "* Example: obtain phonon irreps from DDB using phonopy\n",
    "\n",
    "```python\n",
    "ddb = abilab.abiopen(\"mp-149_DDB\")\n",
    "ph = ddb.anaget_phonopy_ifc()\n",
    "ph.set_irreps([0, 0, 0])\n",
    "ph.get_irreps().show()\n",
    "```"
   ]
  }
 ],
 "metadata": {
  "celltoolbar": "Slideshow",
  "kernelspec": {
   "display_name": "Python 3",
   "language": "python",
   "name": "python3"
  },
  "language_info": {
   "codemirror_mode": {
    "name": "ipython",
    "version": 3
   },
   "file_extension": ".py",
   "mimetype": "text/x-python",
   "name": "python",
   "nbconvert_exporter": "python",
   "pygments_lexer": "ipython3",
   "version": "3.7.0"
  },
  "latex_envs": {
   "bibliofile": "biblio.bib",
   "cite_by": "apalike",
   "current_citInitial": 1,
   "eqLabelWithNumbers": true,
   "eqNumInitial": 0
  }
 },
 "nbformat": 4,
 "nbformat_minor": 2
}
